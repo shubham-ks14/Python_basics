{
 "cells": [
  {
   "cell_type": "markdown",
   "metadata": {},
   "source": [
    "### Q1 - Print hello world"
   ]
  },
  {
   "cell_type": "code",
   "execution_count": 6,
   "metadata": {},
   "outputs": [
    {
     "name": "stdout",
     "output_type": "stream",
     "text": [
      "Hello world\n"
     ]
    }
   ],
   "source": [
    "print('Hello world')"
   ]
  },
  {
   "cell_type": "markdown",
   "metadata": {},
   "source": [
    "### Q2 - Add two numbers taken from user input"
   ]
  },
  {
   "cell_type": "code",
   "execution_count": 1,
   "metadata": {},
   "outputs": [
    {
     "name": "stdout",
     "output_type": "stream",
     "text": [
      "Enter the first number: 12\n",
      "Enter the second number: 56\n",
      "the sum of 12 and 56 is 68\n"
     ]
    }
   ],
   "source": [
    "num1 = int(input('Enter the first number: '))\n",
    "num2 = int(input('Enter the second number: '))\n",
    "sum = num1 + num2\n",
    "print('the sum of {0} and {1} is {2}'.format(num1,num2,sum))"
   ]
  },
  {
   "cell_type": "code",
   "execution_count": 3,
   "metadata": {},
   "outputs": [
    {
     "name": "stdout",
     "output_type": "stream",
     "text": [
      "Enter 1st number: 25\n",
      "Enter 2nd number: 56\n",
      "The sum is 81.0\n"
     ]
    }
   ],
   "source": [
    "# Single line statement\n",
    "print('The sum is %0.1f' %(float(input('Enter 1st number: ')) + float(input('Enter 2nd number: '))))"
   ]
  },
  {
   "cell_type": "markdown",
   "metadata": {},
   "source": [
    "### Q3 - Square of a number from user input"
   ]
  },
  {
   "cell_type": "code",
   "execution_count": 5,
   "metadata": {},
   "outputs": [
    {
     "name": "stdout",
     "output_type": "stream",
     "text": [
      "Enter the number: 26\n",
      "The square root of 26.00 is 5.099\n"
     ]
    }
   ],
   "source": [
    "num = float(input(\"Enter the number: \"))\n",
    "sqrt = num**0.5\n",
    "print('The square root of %0.2f is %0.3f' %(num, sqrt) )"
   ]
  },
  {
   "cell_type": "markdown",
   "metadata": {},
   "source": [
    "### Q4 - Area of triangle "
   ]
  },
  {
   "cell_type": "code",
   "execution_count": 9,
   "metadata": {},
   "outputs": [
    {
     "name": "stdout",
     "output_type": "stream",
     "text": [
      "Enter the side a: 56\n",
      "Enter the side b: 23.2\n",
      "Enter the side c: 4.5\n",
      "The area is 41.85 \n"
     ]
    }
   ],
   "source": [
    "a = float(input(\"Enter the side a: \"))\n",
    "b = float(input(\"Enter the side b: \"))\n",
    "c = float(input(\"Enter the side c: \"))\n",
    "\n",
    "s = (a+b+c)/2\n",
    "area = (s*(s-a)*(s-b)*(s-c))**0.5\n",
    "print('The area is %0.2f ' %(s))"
   ]
  },
  {
   "cell_type": "markdown",
   "metadata": {},
   "source": [
    "### Q5 - Solve the quadratic equation\n"
   ]
  },
  {
   "cell_type": "code",
   "execution_count": 16,
   "metadata": {},
   "outputs": [
    {
     "name": "stdout",
     "output_type": "stream",
     "text": [
      "Enter the side a: 45\n",
      "Enter the side b: 6\n",
      "Enter the side c: 8\n",
      "The solution for equation are (-135-843.0747297837837j) and (-135+843.0747297837837j) \n"
     ]
    }
   ],
   "source": [
    "# ax2 + bx + c = 0, where\n",
    "# a, b and c are real numbers and\n",
    "# a ≠ 0\n",
    "\n",
    "# Importing complex math module\n",
    "import cmath\n",
    "\n",
    "a = abs(float(input(\"Enter the side a: \")))\n",
    "b = float(input(\"Enter the side b: \"))\n",
    "c = float(input(\"Enter the side c: \"))\n",
    "\n",
    "# calculating the discriminant\n",
    "d = b**2 - 4*a*c\n",
    "\n",
    "sol1 = (-b-cmath.sqrt(d))/2*a\n",
    "sol2 = (-b+cmath.sqrt(d))/2*a\n",
    "print('The solution for equation are {0} and {1} '.format(sol1,sol2))"
   ]
  },
  {
   "cell_type": "markdown",
   "metadata": {},
   "source": [
    "### Q6 - Swap 2 variables"
   ]
  },
  {
   "cell_type": "code",
   "execution_count": 18,
   "metadata": {},
   "outputs": [
    {
     "name": "stdout",
     "output_type": "stream",
     "text": [
      "the value of x is:  5\n",
      "the value of y is:  2\n"
     ]
    }
   ],
   "source": [
    "x = 2 \n",
    "y = 5\n",
    "\n",
    "temp = x\n",
    "x = y\n",
    "y = temp\n",
    "print(\"the value of x is: \", x)\n",
    "print(\"the value of y is: \", y)"
   ]
  },
  {
   "cell_type": "code",
   "execution_count": 19,
   "metadata": {},
   "outputs": [
    {
     "name": "stdout",
     "output_type": "stream",
     "text": [
      "x =  10\n",
      "y =  5\n"
     ]
    }
   ],
   "source": [
    "# Without using a temporary variable\n",
    "x = 5\n",
    "y = 10\n",
    "\n",
    "x,y = y,x\n",
    "print('x = ', x)\n",
    "print('y = ', y)"
   ]
  },
  {
   "cell_type": "code",
   "execution_count": 33,
   "metadata": {},
   "outputs": [],
   "source": [
    "# XOR swap\n",
    "x,y = 5,10\n",
    "x = x^y\n",
    "y = x^y\n",
    "x = x^y"
   ]
  },
  {
   "cell_type": "markdown",
   "metadata": {},
   "source": [
    "### Q7 - Generate a random number"
   ]
  },
  {
   "cell_type": "code",
   "execution_count": 39,
   "metadata": {},
   "outputs": [
    {
     "name": "stdout",
     "output_type": "stream",
     "text": [
      "5\n",
      "35\n"
     ]
    }
   ],
   "source": [
    "import random\n",
    "print(random.randint(0,5))\n",
    "print(random.randint(25,50))"
   ]
  },
  {
   "cell_type": "markdown",
   "metadata": {},
   "source": [
    "### Q8- To convert kilometers to miles"
   ]
  },
  {
   "cell_type": "code",
   "execution_count": 42,
   "metadata": {},
   "outputs": [
    {
     "name": "stdout",
     "output_type": "stream",
     "text": [
      "Enter the distance in kilometres: 45\n",
      "The distance in Miles is 27.958499999999997\n"
     ]
    }
   ],
   "source": [
    "dist = int(input(\"Enter the distance in kilometres: \"))\n",
    "print(\"The distance in Miles is {0}\".format(dist*0.6213))"
   ]
  },
  {
   "cell_type": "markdown",
   "metadata": {},
   "source": [
    "### Q9 - Convert from Celsius To Fahrenheit"
   ]
  },
  {
   "cell_type": "code",
   "execution_count": 45,
   "metadata": {},
   "outputs": [
    {
     "name": "stdout",
     "output_type": "stream",
     "text": [
      "Enter temp in degree celsius: 56\n",
      "The temperature of 56.00 in degree celsius is 132.80 degree fahrenheit \n"
     ]
    }
   ],
   "source": [
    "temp = float(input(\"Enter temp in degree celsius: \"))\n",
    "fah = (temp*1.8) + 32\n",
    "print('The temperature of %0.2f in degree celsius is %0.2f degree fahrenheit ' %(temp,fah))"
   ]
  },
  {
   "cell_type": "markdown",
   "metadata": {},
   "source": [
    "### Q10 - Check a number is positive,negative or zero"
   ]
  },
  {
   "cell_type": "code",
   "execution_count": 48,
   "metadata": {},
   "outputs": [
    {
     "name": "stdout",
     "output_type": "stream",
     "text": [
      "Enter the number: 0\n",
      "number is zero\n"
     ]
    }
   ],
   "source": [
    "num = float(input(\"Enter the number: \"))\n",
    "\n",
    "if num > 0 :\n",
    "    print('number is positive')\n",
    "elif num < 0:\n",
    "    print('number is negative')\n",
    "else:\n",
    "    print('number is zero')"
   ]
  },
  {
   "cell_type": "markdown",
   "metadata": {},
   "source": [
    "### Q11 - Check if a Number is Odd or Even"
   ]
  },
  {
   "cell_type": "code",
   "execution_count": 51,
   "metadata": {},
   "outputs": [
    {
     "name": "stdout",
     "output_type": "stream",
     "text": [
      "Enter the number: 9\n",
      "Number is odd\n"
     ]
    }
   ],
   "source": [
    "num = int(input(\"Enter the number: \"))\n",
    "\n",
    "if num%2 == 0:\n",
    "    print('Number is even')\n",
    "else:\n",
    "    print('Number is odd')"
   ]
  },
  {
   "cell_type": "markdown",
   "metadata": {},
   "source": [
    "### Q12 - Check leap year"
   ]
  },
  {
   "cell_type": "code",
   "execution_count": 63,
   "metadata": {},
   "outputs": [
    {
     "name": "stdout",
     "output_type": "stream",
     "text": [
      "Enter a year: 1900\n",
      "1900 is not a leap year\n"
     ]
    }
   ],
   "source": [
    "year = int(input(\"Enter a year: \"))\n",
    "\n",
    "if (year % 4) == 0:\n",
    "    if (year % 100) == 0:\n",
    "        if (year % 400) == 0:\n",
    "            print(\"{0} is a leap year\".format(year))\n",
    "        else:\n",
    "            print(\"{0} is not a leap year\".format(year))\n",
    "    else:       \n",
    "        print(\"{0} is a leap year\".format(year))\n",
    "else:\n",
    "    print(\"{0} is not a leap year\".format(year))"
   ]
  },
  {
   "cell_type": "code",
   "execution_count": null,
   "metadata": {},
   "outputs": [],
   "source": []
  }
 ],
 "metadata": {
  "kernelspec": {
   "display_name": "Python 3",
   "language": "python",
   "name": "python3"
  },
  "language_info": {
   "codemirror_mode": {
    "name": "ipython",
    "version": 3
   },
   "file_extension": ".py",
   "mimetype": "text/x-python",
   "name": "python",
   "nbconvert_exporter": "python",
   "pygments_lexer": "ipython3",
   "version": "3.7.3"
  }
 },
 "nbformat": 4,
 "nbformat_minor": 2
}
